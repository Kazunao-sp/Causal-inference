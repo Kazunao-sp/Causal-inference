{
 "cells": [
  {
   "cell_type": "markdown",
   "metadata": {},
   "source": [
    "---\n",
    "title: \"SASを用いた因果効果算出方法の確認\"\n",
    "author: \"Kazuhisa Ishihara\"\n",
    "date: \"2022年2月19日\"\n",
    "output: html_document\n",
    "---"
   ]
  },
  {
   "cell_type": "markdown",
   "metadata": {},
   "source": [
    "SAS接続の確立"
   ]
  },
  {
   "cell_type": "code",
   "execution_count": 1,
   "metadata": {},
   "outputs": [
    {
     "name": "stdout",
     "output_type": "stream",
     "text": [
      "Using SAS Config named: oda\n",
      "SAS Connection established. Subprocess id is 11824\n",
      "\n"
     ]
    }
   ],
   "source": [
    "import saspy\n",
    "import pandas as pd\n",
    "\n",
    "sas = saspy.SASsession()"
   ]
  },
  {
   "cell_type": "markdown",
   "metadata": {},
   "source": [
    "Dataのインポート"
   ]
  },
  {
   "cell_type": "code",
   "execution_count": 8,
   "metadata": {},
   "outputs": [
    {
     "name": "stdout",
     "output_type": "stream",
     "text": [
      "\n",
      "25                                                        SAS システム               2022年 2月19日 土曜日 08時10分00秒\n",
      "\n",
      "136        ods listing close;ods html5 (id=saspy_internal) file=_tomods1 options(bitmap_mode='inline') device=svg style=HTMLBlue;\n",
      "136      ! ods graphics on / outputfmt=png;\n",
      "137        \n",
      "138        \n",
      "139        proc means data=mydata;\n",
      "ERROR: ファイルWORK.MYDATA.DATAは存在しません。\n",
      "140            var pmoney;\n",
      "ERROR: データセットがオープンされていません。\n",
      "141        run;\n",
      "142        \n",
      "143        \n",
      "144        \n",
      "145        ods html5 (id=saspy_internal) close;ods listing;\n",
      "146        \n",
      "\n",
      "26                                                        SAS システム               2022年 2月19日 土曜日 08時10分00秒\n",
      "\n",
      "147        \n"
     ]
    },
    {
     "ename": "NameError",
     "evalue": "name 'HTML' is not defined",
     "output_type": "error",
     "traceback": [
      "\u001b[1;31m---------------------------------------------------------------------------\u001b[0m",
      "\u001b[1;31mNameError\u001b[0m                                 Traceback (most recent call last)",
      "\u001b[1;32mc:\\Users\\kazun\\Documents\\Git\\Causal-inference\\SAS\\DS3.ipynb Cell 5'\u001b[0m in \u001b[0;36m<module>\u001b[1;34m\u001b[0m\n\u001b[0;32m      <a href='vscode-notebook-cell:/c%3A/Users/kazun/Documents/Git/Causal-inference/SAS/DS3.ipynb#ch0000008?line=2'>3</a>\u001b[0m c \u001b[39m=\u001b[39m sas\u001b[39m.\u001b[39msubmit(\u001b[39m\"\"\"\u001b[39m\n\u001b[0;32m      <a href='vscode-notebook-cell:/c%3A/Users/kazun/Documents/Git/Causal-inference/SAS/DS3.ipynb#ch0000008?line=3'>4</a>\u001b[0m \u001b[39mproc means data=mydata;\u001b[39m\n\u001b[0;32m      <a href='vscode-notebook-cell:/c%3A/Users/kazun/Documents/Git/Causal-inference/SAS/DS3.ipynb#ch0000008?line=4'>5</a>\u001b[0m \u001b[39m    var pmoney;\u001b[39m\n\u001b[0;32m      <a href='vscode-notebook-cell:/c%3A/Users/kazun/Documents/Git/Causal-inference/SAS/DS3.ipynb#ch0000008?line=5'>6</a>\u001b[0m \u001b[39mrun;\u001b[39m\n\u001b[0;32m      <a href='vscode-notebook-cell:/c%3A/Users/kazun/Documents/Git/Causal-inference/SAS/DS3.ipynb#ch0000008?line=6'>7</a>\u001b[0m \u001b[39m\"\"\"\u001b[39m)\n\u001b[0;32m      <a href='vscode-notebook-cell:/c%3A/Users/kazun/Documents/Git/Causal-inference/SAS/DS3.ipynb#ch0000008?line=7'>8</a>\u001b[0m \u001b[39mprint\u001b[39m(c[\u001b[39m\"\u001b[39m\u001b[39mLOG\u001b[39m\u001b[39m\"\u001b[39m])\n\u001b[1;32m----> <a href='vscode-notebook-cell:/c%3A/Users/kazun/Documents/Git/Causal-inference/SAS/DS3.ipynb#ch0000008?line=8'>9</a>\u001b[0m HTML(c[\u001b[39m\"\u001b[39m\u001b[39mLST\u001b[39m\u001b[39m\"\u001b[39m])\n",
      "\u001b[1;31mNameError\u001b[0m: name 'HTML' is not defined"
     ]
    }
   ],
   "source": [
    "hr = sas.read_csv(\"../data/DS3_data.csv\", table=\"mydata\")\n",
    "\n",
    "c = sas.submit(\"\"\"\n",
    "proc means data=mydata;\n",
    "    var pmoney;\n",
    "run;\n",
    "\"\"\")\n",
    "print(c[\"LOG\"])\n",
    "HTML(c[\"LST\"])\n"
   ]
  },
  {
   "cell_type": "code",
   "execution_count": 5,
   "metadata": {},
   "outputs": [
    {
     "name": "stdout",
     "output_type": "stream",
     "text": [
      "\n",
      "15                                                        SAS システム               2022年 2月19日 土曜日 08時10分00秒\n",
      "\n",
      "80         ods listing close;ods html5 (id=saspy_internal) file=_tomods1 options(bitmap_mode='inline') device=svg style=HTMLBlue;\n",
      "80       ! ods graphics on / outputfmt=png;\n",
      "81         \n",
      "82         \n",
      "83         proc means data=mydata;\n",
      "ERROR: ファイルWORK.MYDATA.DATAは存在しません。\n",
      "84             var pmoney;\n",
      "ERROR: データセットがオープンされていません。\n",
      "85         run;\n",
      "86         \n",
      "87         \n",
      "88         \n",
      "89         ods html5 (id=saspy_internal) close;ods listing;\n",
      "90         \n",
      "\n",
      "16                                                        SAS システム               2022年 2月19日 土曜日 08時10分00秒\n",
      "\n",
      "91         \n"
     ]
    },
    {
     "ename": "NameError",
     "evalue": "name 'HTML' is not defined",
     "output_type": "error",
     "traceback": [
      "\u001b[1;31m---------------------------------------------------------------------------\u001b[0m",
      "\u001b[1;31mNameError\u001b[0m                                 Traceback (most recent call last)",
      "\u001b[1;32mc:\\Users\\kazun\\Documents\\Git\\Causal-inference\\SAS\\DS3.ipynb Cell 6'\u001b[0m in \u001b[0;36m<module>\u001b[1;34m\u001b[0m\n\u001b[0;32m      <a href='vscode-notebook-cell:/c%3A/Users/kazun/Documents/Git/Causal-inference/SAS/DS3.ipynb#ch0000010?line=0'>1</a>\u001b[0m c \u001b[39m=\u001b[39m sas\u001b[39m.\u001b[39msubmit(\u001b[39m\"\"\"\u001b[39m\n\u001b[0;32m      <a href='vscode-notebook-cell:/c%3A/Users/kazun/Documents/Git/Causal-inference/SAS/DS3.ipynb#ch0000010?line=1'>2</a>\u001b[0m \u001b[39mproc means data=mydata;\u001b[39m\n\u001b[0;32m      <a href='vscode-notebook-cell:/c%3A/Users/kazun/Documents/Git/Causal-inference/SAS/DS3.ipynb#ch0000010?line=2'>3</a>\u001b[0m \u001b[39m    var pmoney;\u001b[39m\n\u001b[0;32m      <a href='vscode-notebook-cell:/c%3A/Users/kazun/Documents/Git/Causal-inference/SAS/DS3.ipynb#ch0000010?line=3'>4</a>\u001b[0m \u001b[39mrun;\u001b[39m\n\u001b[0;32m      <a href='vscode-notebook-cell:/c%3A/Users/kazun/Documents/Git/Causal-inference/SAS/DS3.ipynb#ch0000010?line=4'>5</a>\u001b[0m \u001b[39m\"\"\"\u001b[39m)\n\u001b[0;32m      <a href='vscode-notebook-cell:/c%3A/Users/kazun/Documents/Git/Causal-inference/SAS/DS3.ipynb#ch0000010?line=5'>6</a>\u001b[0m \u001b[39mprint\u001b[39m(c[\u001b[39m\"\u001b[39m\u001b[39mLOG\u001b[39m\u001b[39m\"\u001b[39m])\n\u001b[1;32m----> <a href='vscode-notebook-cell:/c%3A/Users/kazun/Documents/Git/Causal-inference/SAS/DS3.ipynb#ch0000010?line=6'>7</a>\u001b[0m HTML(c[\u001b[39m\"\u001b[39m\u001b[39mLST\u001b[39m\u001b[39m\"\u001b[39m])\n",
      "\u001b[1;31mNameError\u001b[0m: name 'HTML' is not defined"
     ]
    }
   ],
   "source": [
    "c = sas.submit(\"\"\"\n",
    "proc means data=mydata;\n",
    "    var pmoney;\n",
    "run;\n",
    "\"\"\")\n",
    "print(c[\"LOG\"])\n",
    "HTML(c[\"LST\"])"
   ]
  },
  {
   "cell_type": "code",
   "execution_count": null,
   "metadata": {},
   "outputs": [],
   "source": [
    "*ods pdf file = \"/home/u55644912/DS3/2_output.pdf\";\n",
    "\n",
    "proc odstext;\n",
    "\tp \"岩波DS3のCM接触データセットを用いた解析法のTutrial\";\n",
    "\tp \"下記のページのRによる手法をSASで実施してみる\";\n",
    "\tp \"proc Causaltrtを使って解析する\";\n",
    "\tp \"https://tjo.hatenablog.com/entry/2016/08/29/190000#fn-aebe1af1\";\n",
    "run;\n",
    "\n",
    "FILENAME REFFILE '/home/u55644912/DS3/q_data_x.csv' encoding= \"shift-jis\";\n",
    "\n",
    "PROC IMPORT DATAFILE=REFFILE\n",
    "\tDBMS=CSV\n",
    "\tOUT=WORK.data;\n",
    "\tGETNAMES=YES;\n",
    "RUN;\n",
    "\n",
    "ods output CausalEffects = CEffect;\n",
    "proc causaltrt data = DATA all;\n",
    "\t\tclass\n",
    "\t\tcm_dummy\n",
    "\t\tsex\n",
    "\t\tmarry_dummy \n",
    "\t\tchild_dummy\n",
    "\t\tarea_kanto\n",
    "\t\tarea_tokai\n",
    "\t\tarea_keihanshin\n",
    "\t\tjob_dummy1 - job_dummy7\n",
    "\t\tfam_str_dummy1 - fam_str_dummy4\n",
    "\t\t;\n",
    "\t\t\n",
    "\tpsmodel \n",
    "\t\tcm_dummy(ref = \"0\") = \n",
    "\t\tTVwatch_day\n",
    "\t\tage \n",
    "\t\tsex \n",
    "\t\tmarry_dummy \n",
    "\t\tchild_dummy\n",
    "\t\tinc\n",
    "\t\tpmoney\n",
    "\t\tarea_kanto\n",
    "\t\tarea_tokai\n",
    "\t\tarea_keihanshin\n",
    "\t\tjob_dummy1 - job_dummy7\n",
    "\t\tfam_str_dummy1 - fam_str_dummy4\n",
    "\t\t;\n",
    "\tmodel gamedummy(ref = \"0\") /dist = bin;\n",
    "run;\n",
    "\n",
    "*ods pdf close;\n",
    "\n"
   ]
  },
  {
   "cell_type": "code",
   "execution_count": 6,
   "metadata": {},
   "outputs": [
    {
     "ename": "AttributeError",
     "evalue": "'NoneType' object has no attribute 'means'",
     "output_type": "error",
     "traceback": [
      "\u001b[1;31m---------------------------------------------------------------------------\u001b[0m",
      "\u001b[1;31mAttributeError\u001b[0m                            Traceback (most recent call last)",
      "\u001b[1;32mc:\\Users\\kazun\\Documents\\Git\\Causal-inference\\SAS\\DS3.ipynb Cell 7'\u001b[0m in \u001b[0;36m<module>\u001b[1;34m\u001b[0m\n\u001b[1;32m----> <a href='vscode-notebook-cell:/c%3A/Users/kazun/Documents/Git/Causal-inference/SAS/DS3.ipynb#ch0000011?line=0'>1</a>\u001b[0m display(hr\u001b[39m.\u001b[39;49mmeans())\n",
      "\u001b[1;31mAttributeError\u001b[0m: 'NoneType' object has no attribute 'means'"
     ]
    }
   ],
   "source": [
    "display(hr.means())"
   ]
  }
 ],
 "metadata": {
  "interpreter": {
   "hash": "fed216421b651d20a6610046d0d361308600e72dafeb66377b80a3a5914ebcac"
  },
  "kernelspec": {
   "display_name": "Python 3.10.2 64-bit",
   "language": "python",
   "name": "python3"
  },
  "language_info": {
   "codemirror_mode": {
    "name": "ipython",
    "version": 3
   },
   "file_extension": ".py",
   "mimetype": "text/x-python",
   "name": "python",
   "nbconvert_exporter": "python",
   "pygments_lexer": "ipython3",
   "version": "3.10.2"
  },
  "orig_nbformat": 4
 },
 "nbformat": 4,
 "nbformat_minor": 2
}
